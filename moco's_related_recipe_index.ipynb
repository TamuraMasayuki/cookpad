{
 "cells": [
  {
   "cell_type": "code",
   "execution_count": 31,
   "metadata": {},
   "outputs": [],
   "source": [
    "import numpy as np\n",
    "import matplotlib.pyplot as plt\n",
    "import pandas as pd\n",
    "import re\n",
    "import copy"
   ]
  },
  {
   "cell_type": "markdown",
   "metadata": {},
   "source": [
    "# モコズキッチン関連のワードが使われているレシピidを抽出し、csvファイルに書き込む"
   ]
  },
  {
   "cell_type": "code",
   "execution_count": 32,
   "metadata": {},
   "outputs": [],
   "source": [
    "year = []\n",
    "for i in range(1998, 2015):\n",
    "    year.append(i)\n",
    "\n",
    "col_names_recipe = [\"recipe_id\", \"dish_name\", \"detail\", \"background\"]\n",
    "col_names_report = [\"recipe_id\", \"message\", \"reply\"]"
   ]
  },
  {
   "cell_type": "markdown",
   "metadata": {},
   "source": [
    "まずrecipeデータでもこみち関連のワードを使っているrecipe_idを取得"
   ]
  },
  {
   "cell_type": "code",
   "execution_count": 33,
   "metadata": {},
   "outputs": [],
   "source": [
    "# 2011年より前のrecipeファイルを読み込む\n",
    "recipe_before_2011 = pd.DataFrame(columns=col_names_recipe)\n",
    "\n",
    "for i in range(1998, 2011):\n",
    "    recipe_temp = pd.read_csv(f\"/Users/tamuramasayuki/Desktop/3S/基礎プロジェクトB/programming/dataset/recipe/recipe{i}.csv\",\n",
    "                              names=col_names_recipe, usecols=[0, 2, 3, 6])\n",
    "\n",
    "    recipe_before_2011 = pd.concat([recipe_before_2011, recipe_temp])"
   ]
  },
  {
   "cell_type": "code",
   "execution_count": 34,
   "metadata": {},
   "outputs": [],
   "source": [
    "recipe_before_2011.fillna(\"non-data\", inplace=True)"
   ]
  },
  {
   "cell_type": "code",
   "execution_count": 35,
   "metadata": {},
   "outputs": [
    {
     "output_type": "stream",
     "name": "stdout",
     "text": "False\nFalse\nFalse\nTrue\n"
    }
   ],
   "source": [
    "for i in col_names_recipe:\n",
    "    print(any(recipe_before_2011[i].str.contains('もこみち|モコミチ|もこず|モコズ|Moco\\'s|MOCO\\'s|moco\\'s')))"
   ]
  },
  {
   "cell_type": "code",
   "execution_count": 52,
   "metadata": {},
   "outputs": [
    {
     "output_type": "execute_result",
     "data": {
      "text/plain": "                                       recipe_id dish_name  \\\n122659  c7d3b9a9c037996dd47084a41b9c0a91f8c4152f       薬味丼   \n\n                                           detail  \\\n122659  玉子かけご飯よりボリューム出るし薬味になる野菜がいっぱいなのですごくさわやかな味✿   \n\n                                               background  \n122659  香取慎吾くん・もこみちくん・香里奈ちゃんが近所の畑にロケで来た時に食べてたものを再現してみました。  ",
      "text/html": "<div>\n<style scoped>\n    .dataframe tbody tr th:only-of-type {\n        vertical-align: middle;\n    }\n\n    .dataframe tbody tr th {\n        vertical-align: top;\n    }\n\n    .dataframe thead th {\n        text-align: right;\n    }\n</style>\n<table border=\"1\" class=\"dataframe\">\n  <thead>\n    <tr style=\"text-align: right;\">\n      <th></th>\n      <th>recipe_id</th>\n      <th>dish_name</th>\n      <th>detail</th>\n      <th>background</th>\n    </tr>\n  </thead>\n  <tbody>\n    <tr>\n      <th>122659</th>\n      <td>c7d3b9a9c037996dd47084a41b9c0a91f8c4152f</td>\n      <td>薬味丼</td>\n      <td>玉子かけご飯よりボリューム出るし薬味になる野菜がいっぱいなのですごくさわやかな味✿</td>\n      <td>香取慎吾くん・もこみちくん・香里奈ちゃんが近所の畑にロケで来た時に食べてたものを再現してみました。</td>\n    </tr>\n  </tbody>\n</table>\n</div>"
     },
     "metadata": {},
     "execution_count": 52
    }
   ],
   "source": [
    "recipe_before_2011.query('background.str.contains(\"もこみち|モコミチ|もこず|モコズ|Moco\\'s|MOCO\\'s|moco\\'s\")', engine='python')"
   ]
  },
  {
   "cell_type": "markdown",
   "metadata": {},
   "source": [
    "2011年以前はもこみちに関するレシピは存在しない"
   ]
  },
  {
   "cell_type": "code",
   "execution_count": 36,
   "metadata": {},
   "outputs": [],
   "source": [
    "# 2011年以降のrecipeファイルを読み込む\n",
    "recipe_from_2011 = pd.DataFrame(columns=col_names_recipe)\n",
    "\n",
    "for i in range(2011, 2015):\n",
    "    recipe_temp = pd.read_csv(f\"/Users/tamuramasayuki/Desktop/3S/基礎プロジェクトB/programming/dataset/recipe/recipe{i}.csv\",\n",
    "                              names=col_names_recipe, usecols=[0, 2, 3, 6])\n",
    "\n",
    "    recipe_from_2011 = pd.concat([recipe_from_2011, recipe_temp])"
   ]
  },
  {
   "cell_type": "code",
   "execution_count": 37,
   "metadata": {},
   "outputs": [],
   "source": [
    "recipe_from_2011.fillna(\"non-data\", inplace=True)"
   ]
  },
  {
   "cell_type": "code",
   "execution_count": 38,
   "metadata": {},
   "outputs": [],
   "source": [
    "boolean = []\n",
    "for i in col_names_recipe:\n",
    "    boolean.append(recipe_from_2011[i].str.contains('もこみち|モコミチ|もこず|モコズ|Moco\\'s|MOCO\\'s|moco\\'s').values)"
   ]
  },
  {
   "cell_type": "code",
   "execution_count": 39,
   "metadata": {},
   "outputs": [],
   "source": [
    "boolean_index = np.full(len(boolean[0]), False)"
   ]
  },
  {
   "cell_type": "code",
   "execution_count": 40,
   "metadata": {},
   "outputs": [],
   "source": [
    "# ビット演算でどれか一つでも真のインデックスを取得する\n",
    "for i in range(len(boolean)):\n",
    "    boolean_index = boolean_index | boolean[i]"
   ]
  },
  {
   "cell_type": "code",
   "execution_count": 41,
   "metadata": {},
   "outputs": [
    {
     "output_type": "execute_result",
     "data": {
      "text/plain": "94"
     },
     "metadata": {},
     "execution_count": 41
    }
   ],
   "source": [
    "sum(boolean_index)"
   ]
  },
  {
   "cell_type": "code",
   "execution_count": 66,
   "metadata": {},
   "outputs": [],
   "source": [
    "id_recipe = recipe_from_2011[\"recipe_id\"].loc[boolean_index].values"
   ]
  },
  {
   "cell_type": "markdown",
   "metadata": {},
   "source": [
    "次にreportデータでもこみち関連のワードを使っているrecipe_idを取得"
   ]
  },
  {
   "cell_type": "code",
   "execution_count": 42,
   "metadata": {},
   "outputs": [],
   "source": [
    "# 2011年より前のreportファイルを読み込む\n",
    "report_before_2011 = pd.DataFrame(columns=col_names_report)\n",
    "\n",
    "for i in range(1998, 2011):\n",
    "    report_temp = pd.read_csv(f\"/Users/tamuramasayuki/Desktop/3S/基礎プロジェクトB/programming/dataset/report 2/report{i}.csv\",\n",
    "                              names=col_names_report, usecols=[0, 2, 3])\n",
    "\n",
    "    report_before_2011 = pd.concat([report_before_2011, report_temp])"
   ]
  },
  {
   "cell_type": "code",
   "execution_count": 43,
   "metadata": {},
   "outputs": [],
   "source": [
    "report_before_2011.fillna(\"non-data\", inplace=True)"
   ]
  },
  {
   "cell_type": "code",
   "execution_count": 44,
   "metadata": {},
   "outputs": [
    {
     "output_type": "stream",
     "name": "stdout",
     "text": "False\nTrue\nTrue\n"
    }
   ],
   "source": [
    "for i in col_names_report:\n",
    "    print(any(report_before_2011[i].str.contains('もこみち|モコミチ|もこず|モコズ|Moco\\'s|MOCO\\'s|moco\\'s')))"
   ]
  },
  {
   "cell_type": "code",
   "execution_count": 53,
   "metadata": {},
   "outputs": [
    {
     "output_type": "execute_result",
     "data": {
      "text/plain": "                                       recipe_id  \\\n751733  9c60c4d99bb10e2b9e19b0eaf3563cd3fd3be6fb   \n712634  62749d0af5c14f8c9f068487e96588a6d4a8d79e   \n\n                                  message                              reply  \n751733   \"男子厨房に入るべし！リぴ＊きゅうりは食感を変えて～もこみち風\"   \"このきゅうりの切り方とっても綺麗❤美味しそうなれぽ感謝です！\"  \n712634      \"お友達とのランチはこれで決まり♫♬←もこみち風に（笑）\"   \"もこみち毎朝見てるから吹き出しても～たわ(笑)ありがとぉ～❤\"  ",
      "text/html": "<div>\n<style scoped>\n    .dataframe tbody tr th:only-of-type {\n        vertical-align: middle;\n    }\n\n    .dataframe tbody tr th {\n        vertical-align: top;\n    }\n\n    .dataframe thead th {\n        text-align: right;\n    }\n</style>\n<table border=\"1\" class=\"dataframe\">\n  <thead>\n    <tr style=\"text-align: right;\">\n      <th></th>\n      <th>recipe_id</th>\n      <th>message</th>\n      <th>reply</th>\n    </tr>\n  </thead>\n  <tbody>\n    <tr>\n      <th>751733</th>\n      <td>9c60c4d99bb10e2b9e19b0eaf3563cd3fd3be6fb</td>\n      <td>\"男子厨房に入るべし！リぴ＊きゅうりは食感を変えて～もこみち風\"</td>\n      <td>\"このきゅうりの切り方とっても綺麗❤美味しそうなれぽ感謝です！\"</td>\n    </tr>\n    <tr>\n      <th>712634</th>\n      <td>62749d0af5c14f8c9f068487e96588a6d4a8d79e</td>\n      <td>\"お友達とのランチはこれで決まり♫♬←もこみち風に（笑）\"</td>\n      <td>\"もこみち毎朝見てるから吹き出しても～たわ(笑)ありがとぉ～❤\"</td>\n    </tr>\n  </tbody>\n</table>\n</div>"
     },
     "metadata": {},
     "execution_count": 53
    }
   ],
   "source": [
    "report_before_2011.query('message.str.contains(\"もこみち|モコミチ|もこず|モコズ|Moco\\'s|MOCO\\'s|moco\\'s\")', engine='python')"
   ]
  },
  {
   "cell_type": "code",
   "execution_count": 54,
   "metadata": {},
   "outputs": [
    {
     "output_type": "execute_result",
     "data": {
      "text/plain": "                                        recipe_id  \\\n556081   9338196a484b326fc70501a8a66827c3e338c37b   \n712634   62749d0af5c14f8c9f068487e96588a6d4a8d79e   \n725472   d73e995254e06d8c8f081520bfc9ee610f918ff7   \n853499   cc0ddef1b0311389621bd6a64ef5258b2697d47c   \n1214295  ebfbaa49746dbb7e6b785cbe606cd98cefdb9630   \n206810   da77138f2824b5e7803db798490b4ce976862b5b   \n688068   d5d1b776860fea588c55598e35653b0d8980b5a3   \n1201915  059e628809ac738e8fb73a7247c095eda0adec10   \n\n                                     message  \\\n556081    \"初のルーを使わないカレーに挑戦しました！このレシピは簡単で嬉しい\"   \n712634         \"お友達とのランチはこれで決まり♫♬←もこみち風に（笑）\"   \n725472       \"オリーブオイルで炒めてイタリアン☆最高に美味しかったです!\"   \n853499      \"さっぱりしていておいしかったです✿これからの季節にぴったり☆\"   \n1214295    \"はまってます☆今回は息子のアイデアでにんにくも入れてみました。\"   \n206810     \"リピ☆子供の学校行事のお供に！子供達もお気に入り～♡おいしい☆\"   \n688068          \"次の日もおいしかったです♪また作りまーす(^-^)/\"   \n1201915         \"常備の野菜で手軽に一品出来て、さらにごきげんうまい！\"   \n\n                                     reply  \n556081     \"「みちみち」を「もこみち」と読んじったｙｏ！老眼まっしぐら\"  \n712634    \"もこみち毎朝見てるから吹き出しても～たわ(笑)ありがとぉ～❤\"  \n725472    \"もこみちさんの様だと思ったらお名前がｗイタリアンありがとう☆\"  \n853499    \"でしょでしょ♪夏はこれで決まり！（もこみち風ｗ）れぽ感謝～☆\"  \n1214295   \"息子なかなかいいセンスしてるわね～♪末はモコズキッチン2号♡\"  \n206810    \"もっこりおにぎりうまそ＾ｍ＾名付けて「もこみちおにぎり」(笑\"  \n688068       \"れぽお届け有難う～♪目指せもこみちくん応援しちゃう～♡\"  \n1201915   \"もこみちですね☆コメントすごく嬉しいです♡作って下さり感謝♪\"  ",
      "text/html": "<div>\n<style scoped>\n    .dataframe tbody tr th:only-of-type {\n        vertical-align: middle;\n    }\n\n    .dataframe tbody tr th {\n        vertical-align: top;\n    }\n\n    .dataframe thead th {\n        text-align: right;\n    }\n</style>\n<table border=\"1\" class=\"dataframe\">\n  <thead>\n    <tr style=\"text-align: right;\">\n      <th></th>\n      <th>recipe_id</th>\n      <th>message</th>\n      <th>reply</th>\n    </tr>\n  </thead>\n  <tbody>\n    <tr>\n      <th>556081</th>\n      <td>9338196a484b326fc70501a8a66827c3e338c37b</td>\n      <td>\"初のルーを使わないカレーに挑戦しました！このレシピは簡単で嬉しい\"</td>\n      <td>\"「みちみち」を「もこみち」と読んじったｙｏ！老眼まっしぐら\"</td>\n    </tr>\n    <tr>\n      <th>712634</th>\n      <td>62749d0af5c14f8c9f068487e96588a6d4a8d79e</td>\n      <td>\"お友達とのランチはこれで決まり♫♬←もこみち風に（笑）\"</td>\n      <td>\"もこみち毎朝見てるから吹き出しても～たわ(笑)ありがとぉ～❤\"</td>\n    </tr>\n    <tr>\n      <th>725472</th>\n      <td>d73e995254e06d8c8f081520bfc9ee610f918ff7</td>\n      <td>\"オリーブオイルで炒めてイタリアン☆最高に美味しかったです!\"</td>\n      <td>\"もこみちさんの様だと思ったらお名前がｗイタリアンありがとう☆\"</td>\n    </tr>\n    <tr>\n      <th>853499</th>\n      <td>cc0ddef1b0311389621bd6a64ef5258b2697d47c</td>\n      <td>\"さっぱりしていておいしかったです✿これからの季節にぴったり☆\"</td>\n      <td>\"でしょでしょ♪夏はこれで決まり！（もこみち風ｗ）れぽ感謝～☆\"</td>\n    </tr>\n    <tr>\n      <th>1214295</th>\n      <td>ebfbaa49746dbb7e6b785cbe606cd98cefdb9630</td>\n      <td>\"はまってます☆今回は息子のアイデアでにんにくも入れてみました。\"</td>\n      <td>\"息子なかなかいいセンスしてるわね～♪末はモコズキッチン2号♡\"</td>\n    </tr>\n    <tr>\n      <th>206810</th>\n      <td>da77138f2824b5e7803db798490b4ce976862b5b</td>\n      <td>\"リピ☆子供の学校行事のお供に！子供達もお気に入り～♡おいしい☆\"</td>\n      <td>\"もっこりおにぎりうまそ＾ｍ＾名付けて「もこみちおにぎり」(笑\"</td>\n    </tr>\n    <tr>\n      <th>688068</th>\n      <td>d5d1b776860fea588c55598e35653b0d8980b5a3</td>\n      <td>\"次の日もおいしかったです♪また作りまーす(^-^)/\"</td>\n      <td>\"れぽお届け有難う～♪目指せもこみちくん応援しちゃう～♡\"</td>\n    </tr>\n    <tr>\n      <th>1201915</th>\n      <td>059e628809ac738e8fb73a7247c095eda0adec10</td>\n      <td>\"常備の野菜で手軽に一品出来て、さらにごきげんうまい！\"</td>\n      <td>\"もこみちですね☆コメントすごく嬉しいです♡作って下さり感謝♪\"</td>\n    </tr>\n  </tbody>\n</table>\n</div>"
     },
     "metadata": {},
     "execution_count": 54
    }
   ],
   "source": [
    "report_before_2011.query('reply.str.contains(\"もこみち|モコミチ|もこず|モコズ|Moco\\'s|MOCO\\'s|moco\\'s\")', engine='python')"
   ]
  },
  {
   "cell_type": "markdown",
   "metadata": {},
   "source": [
    "2011年以前のreportデータにもこみち関連のワードは存在するので、考慮する"
   ]
  },
  {
   "cell_type": "code",
   "execution_count": 45,
   "metadata": {},
   "outputs": [],
   "source": [
    "# 2011年以降のreportファイルを読み込む\n",
    "report_from_2011 = pd.DataFrame(columns=col_names_report)\n",
    "\n",
    "for i in range(2011, 2015):\n",
    "    report_temp = pd.read_csv(f\"/Users/tamuramasayuki/Desktop/3S/基礎プロジェクトB/programming/dataset/report 2/report{i}.csv\",\n",
    "                              names=col_names_report, usecols=[0, 2, 3])\n",
    "\n",
    "    report_from_2011 = pd.concat([report_from_2011, report_temp])"
   ]
  },
  {
   "cell_type": "code",
   "execution_count": 46,
   "metadata": {},
   "outputs": [],
   "source": [
    "report_from_2011.fillna(\"non-data\", inplace=True)"
   ]
  },
  {
   "cell_type": "code",
   "execution_count": 47,
   "metadata": {},
   "outputs": [
    {
     "output_type": "execute_result",
     "data": {
      "text/plain": "                                       recipe_id  \\\n0       3efe6df876dd86add7d854451bf7d97417ada480   \n1       3efe6df876dd86add7d854451bf7d97417ada480   \n2       c632a2ada6df36a8185b7b6849e728fe79298a85   \n3       c632a2ada6df36a8185b7b6849e728fe79298a85   \n4       3efe6df876dd86add7d854451bf7d97417ada480   \n...                                          ...   \n337101  439be9adab9f21a65e939eb8be9dfba083da8c4a   \n337102  b0421d4f3303adc1a222f7e1e506e0cc6af8652a   \n337103  62185a909b32442c1334efbe6693d15b02226869   \n337104  9a8d7cd82aca73c1c97384346f70c2939e2df0e6   \n337105  b37ea43b60c86fe46084fed70f58c4c6597d11cd   \n\n                                    message  \\\n0                 \"おいしい！写真撮る先からなくなっていきました！\"   \n1        \"ちょっと焼きすぎ…でも香ばしくってめちゃくちゃ美味しかったです！\"   \n2        \"焼いてる時から良い香り(^ー^* )ﾌﾌ♪とっても美味しかった！\"   \n3        \"簡単でしっとり美味しかったです！バナナの救済レシピになりました♪\"   \n4                  \"食べ応え抜群！１歳の息子もカリカリカリ・・・\"   \n...                                     ...   \n337101       \"運動会のお弁当に入れました！子どもにすごく喜ばれました♪\"   \n337102   \"優しいお味♡保育園の運動会のお弁当に入れました！美味しかったです\"   \n337103   \"とっても美味しかったです。ニンニクさすが。他の肉でも美味しそう。\"   \n337104                \"アボカド＆キムチ好きにはたまりません!\"   \n337105     \"さっそくリピ(^^)抹茶をココアに変えて…美味しかったです♪\"   \n\n                                     reply  \n0         \"ですよね！むむむ！しかもツイスト入れてますね♪おいしそう～♪\"  \n1         \"いえいえ！こんがり香ばしそうな焼き上がり♪形がかわい～ですね\"  \n2         \"おぉ！！おいしそうです～♪つくれぽ、ありがとうございました★\"  \n3                    \"おいしそうです～！！形も可愛いですね♪\"  \n4          \"小気味よいカリポリ音が聞こえてきそうですね～♪美味しそう！\"  \n...                                    ...  \n337101   \"くろぶた君もいますね♪　どの子もかわいい～～(*^_^*)  \"  \n337102    \"運動会シーズンですね♪気に入ってもらえたかなぁ☆また是非 ♡\"  \n337103        \"HandMさん☆作ってくれて嬉しいです♪れぽ有難う☆\"  \n337104        \"これ美味いっしょ？りぴしてくださいね！Thanks！\"  \n337105                                  \"\"  \n\n[3736154 rows x 3 columns]",
      "text/html": "<div>\n<style scoped>\n    .dataframe tbody tr th:only-of-type {\n        vertical-align: middle;\n    }\n\n    .dataframe tbody tr th {\n        vertical-align: top;\n    }\n\n    .dataframe thead th {\n        text-align: right;\n    }\n</style>\n<table border=\"1\" class=\"dataframe\">\n  <thead>\n    <tr style=\"text-align: right;\">\n      <th></th>\n      <th>recipe_id</th>\n      <th>message</th>\n      <th>reply</th>\n    </tr>\n  </thead>\n  <tbody>\n    <tr>\n      <th>0</th>\n      <td>3efe6df876dd86add7d854451bf7d97417ada480</td>\n      <td>\"おいしい！写真撮る先からなくなっていきました！\"</td>\n      <td>\"ですよね！むむむ！しかもツイスト入れてますね♪おいしそう～♪\"</td>\n    </tr>\n    <tr>\n      <th>1</th>\n      <td>3efe6df876dd86add7d854451bf7d97417ada480</td>\n      <td>\"ちょっと焼きすぎ…でも香ばしくってめちゃくちゃ美味しかったです！\"</td>\n      <td>\"いえいえ！こんがり香ばしそうな焼き上がり♪形がかわい～ですね\"</td>\n    </tr>\n    <tr>\n      <th>2</th>\n      <td>c632a2ada6df36a8185b7b6849e728fe79298a85</td>\n      <td>\"焼いてる時から良い香り(^ー^* )ﾌﾌ♪とっても美味しかった！\"</td>\n      <td>\"おぉ！！おいしそうです～♪つくれぽ、ありがとうございました★\"</td>\n    </tr>\n    <tr>\n      <th>3</th>\n      <td>c632a2ada6df36a8185b7b6849e728fe79298a85</td>\n      <td>\"簡単でしっとり美味しかったです！バナナの救済レシピになりました♪\"</td>\n      <td>\"おいしそうです～！！形も可愛いですね♪\"</td>\n    </tr>\n    <tr>\n      <th>4</th>\n      <td>3efe6df876dd86add7d854451bf7d97417ada480</td>\n      <td>\"食べ応え抜群！１歳の息子もカリカリカリ・・・\"</td>\n      <td>\"小気味よいカリポリ音が聞こえてきそうですね～♪美味しそう！\"</td>\n    </tr>\n    <tr>\n      <th>...</th>\n      <td>...</td>\n      <td>...</td>\n      <td>...</td>\n    </tr>\n    <tr>\n      <th>337101</th>\n      <td>439be9adab9f21a65e939eb8be9dfba083da8c4a</td>\n      <td>\"運動会のお弁当に入れました！子どもにすごく喜ばれました♪\"</td>\n      <td>\"くろぶた君もいますね♪　どの子もかわいい～～(*^_^*)  \"</td>\n    </tr>\n    <tr>\n      <th>337102</th>\n      <td>b0421d4f3303adc1a222f7e1e506e0cc6af8652a</td>\n      <td>\"優しいお味♡保育園の運動会のお弁当に入れました！美味しかったです\"</td>\n      <td>\"運動会シーズンですね♪気に入ってもらえたかなぁ☆また是非 ♡\"</td>\n    </tr>\n    <tr>\n      <th>337103</th>\n      <td>62185a909b32442c1334efbe6693d15b02226869</td>\n      <td>\"とっても美味しかったです。ニンニクさすが。他の肉でも美味しそう。\"</td>\n      <td>\"HandMさん☆作ってくれて嬉しいです♪れぽ有難う☆\"</td>\n    </tr>\n    <tr>\n      <th>337104</th>\n      <td>9a8d7cd82aca73c1c97384346f70c2939e2df0e6</td>\n      <td>\"アボカド＆キムチ好きにはたまりません!\"</td>\n      <td>\"これ美味いっしょ？りぴしてくださいね！Thanks！\"</td>\n    </tr>\n    <tr>\n      <th>337105</th>\n      <td>b37ea43b60c86fe46084fed70f58c4c6597d11cd</td>\n      <td>\"さっそくリピ(^^)抹茶をココアに変えて…美味しかったです♪\"</td>\n      <td>\"\"</td>\n    </tr>\n  </tbody>\n</table>\n<p>3736154 rows × 3 columns</p>\n</div>"
     },
     "metadata": {},
     "execution_count": 47
    }
   ],
   "source": [
    "report_from_2011"
   ]
  },
  {
   "cell_type": "code",
   "execution_count": 48,
   "metadata": {},
   "outputs": [],
   "source": [
    "boolean_report = []\n",
    "for i in col_names_report:\n",
    "    boolean_report.append(report_from_2011[i].str.contains('もこみち|モコミチ|もこず|モコズ|Moco\\'s|MOCO\\'s|moco\\'s').values)"
   ]
  },
  {
   "cell_type": "code",
   "execution_count": 49,
   "metadata": {},
   "outputs": [],
   "source": [
    "boolean_index_report = np.full(len(boolean_report[0]), False)"
   ]
  },
  {
   "cell_type": "code",
   "execution_count": 50,
   "metadata": {},
   "outputs": [],
   "source": [
    "# ビット演算でどれか一つでも真のインデックスを取得する\n",
    "for i in range(len(boolean_report)):\n",
    "    boolean_index_report = boolean_index_report | boolean_report[i]"
   ]
  },
  {
   "cell_type": "code",
   "execution_count": 51,
   "metadata": {},
   "outputs": [
    {
     "output_type": "execute_result",
     "data": {
      "text/plain": "20"
     },
     "metadata": {},
     "execution_count": 51
    }
   ],
   "source": [
    "sum(boolean_index_report)"
   ]
  },
  {
   "cell_type": "code",
   "execution_count": 86,
   "metadata": {},
   "outputs": [],
   "source": [
    "id_report = report_from_2011[\"recipe_id\"].loc[boolean_index_report].values"
   ]
  },
  {
   "cell_type": "code",
   "execution_count": 87,
   "metadata": {},
   "outputs": [],
   "source": [
    "temp_list = [\"62749d0af5c14f8c9f068487e96588a6d4a8d79e\",\n",
    "            \"d73e995254e06d8c8f081520bfc9ee610f918ff7\",\n",
    "            \"cc0ddef1b0311389621bd6a64ef5258b2697d47c\",\n",
    "            \"ebfbaa49746dbb7e6b785cbe606cd98cefdb9630\",\n",
    "            \"059e628809ac738e8fb73a7247c095eda0adec10\",\n",
    "            \"9c60c4d99bb10e2b9e19b0eaf3563cd3fd3be6fb\"\n",
    "            ]"
   ]
  },
  {
   "cell_type": "code",
   "execution_count": 88,
   "metadata": {},
   "outputs": [],
   "source": [
    "id_report = np.append(id_report, temp_list)"
   ]
  },
  {
   "cell_type": "code",
   "execution_count": 89,
   "metadata": {},
   "outputs": [
    {
     "output_type": "stream",
     "name": "stdout",
     "text": "54 16\n"
    }
   ],
   "source": [
    "for i in range(len(id_recipe)):\n",
    "    for j in range(len(id_report)):\n",
    "        if id_recipe[i] == id_report[j]:\n",
    "            print(i, j)"
   ]
  },
  {
   "cell_type": "code",
   "execution_count": 90,
   "metadata": {},
   "outputs": [],
   "source": [
    "id_report_temp = np.delete(id_report, 16)"
   ]
  },
  {
   "cell_type": "code",
   "execution_count": 91,
   "metadata": {},
   "outputs": [],
   "source": [
    "id = np.append(id_recipe, id_report_temp)"
   ]
  },
  {
   "cell_type": "code",
   "execution_count": 92,
   "metadata": {},
   "outputs": [
    {
     "output_type": "execute_result",
     "data": {
      "text/plain": "119"
     },
     "metadata": {},
     "execution_count": 92
    }
   ],
   "source": [
    "len(id)"
   ]
  },
  {
   "cell_type": "code",
   "execution_count": 102,
   "metadata": {},
   "outputs": [],
   "source": [
    "text = np.array([id.T, id_recipe.T, id_report.T])"
   ]
  },
  {
   "cell_type": "code",
   "execution_count": 103,
   "metadata": {},
   "outputs": [
    {
     "output_type": "execute_result",
     "data": {
      "text/plain": "array([array(['21709913597ed302ad157efa4f0b3a6db43a9033',\n       '5fc6efd568a1f3f2500e14d2bc0de7b4479e188c',\n       'ae662bdc3ae1c62a4a67f951df2d125496f71c4e',\n       '5411010461b2f9589e3967bac0b965f1303d4a10',\n       '0100c0203c782850d6a367de1de0a738273d61f3',\n       '828b90e7bec03a8e9c906a0aa9d9ceeb94b70a16',\n       'dc3102cff4033afcb1bf2bc5d1bc3f2ae21b0971',\n       'dbb772f5f56aa4616837091b04518e168145a776',\n       'a982cf7225001fa29d6dada953d06d1bec556697',\n       '6bb989792a5078b734d190aee68058cb4b8c2335',\n       'ee11eea1382fc78541d81589211bd6c004754a73',\n       '24619b8d7c177f3047e269db1af668ab44a619ce',\n       '47eb9bacaa0b05466ea037b7a1f56053045c4921',\n       'dc6c3e4836e7a52441f55073a7df5eb42c0108fb',\n       'f4fe1eed7fc259991ccdb64889483046f333cd35',\n       'e31dd6077131c0bd8e2197a9e501ac05ec2028b2',\n       '42ab1e3a333df8c85aed0ab40d83d3007d9f2d5c',\n       '515f3a48a1661de0175756135dab59918ecbb74a',\n       '92cbd971f8a2b823b385c1fb2c34c9e5528772a9',\n       'c41df05308855be065d084b276228e33da6391c7',\n       'f3f4e349082607fce0144bf12031060d57be9e62',\n       'fddc93a88cdd666add271e5df298f5b90f948cda',\n       'ff7814fec7db964d63af5017994b979bac27e4b1',\n       'b451d438bea7a680ded49c5b5b36109720bd05a2',\n       '8c7adc3ff8bd8402737cf63f3a554354c50e55ac',\n       'f75fbce10f0a2e5a5dc7aabcc48a2f2b94716457',\n       '7c73fd14035b80a5508cfbc7a7c3fea5e8d21b4d',\n       '8343385ea1f3cdc02d652ff47967d64caef450e5',\n       '022ff5b618d347fd9a56bed78e68a249cf58fdcf',\n       '39001c1d3fff7f690ea5dacc225ae9bcc3b33df2',\n       '4a035f53cf1dae7b29de5a7e6ab528008a0af55a',\n       '37f1b5388bacc2d4f275c7ba8ed458e5c5e0d87b',\n       '109e14ba4d8ca33417b3ad47142c1e8583f88b76',\n       'e39c66eb4dc42baa8cfb62bc6534af0e15387926',\n       '6b1a7261eb34e68f5b016f5b4e099ba0a11ed273',\n       'b155fc134ba0271e532ad6019832785def79665d',\n       'fafc2b0c628568df6f4e76baac232c9a82504ebd',\n       '302963427227cc2e39b950256c2e7b0bc08e1f0f',\n       '749b7002168a4362b89583c65615a816ed865d1d',\n       '89b3e6a36d60f62060b963e47025817bbe840a5d',\n       '60a639a48d7058d046840f4f9c767b4a2d28dc92',\n       'fce23f1c8b43823b68aeec25f3484c90065a0e60',\n       'a4810f7d8f38426ec6587a16c4adf9aa6e28257a',\n       'da0637b251358d8d4a8d61b7c3e0d666e476d746',\n       '91cb102271a741d85b654e225910428fd51eba69',\n       'f1114fdeb3b80c30a3269d0df54bedc63119f294',\n       'a4e52094dde28364571f696dc7f7b73ba344a761',\n       'c31482da4e47c7e03515ceb12f3292b2db4caf8b',\n       '6369741ca2f1ecb08549868b0e00b5e690e81f47',\n       '5be04840c4d3be9866ba5bb675949b514fd48b33',\n       '69deb6d9b1b5fb8b81d4890f33438697e40daf13',\n       'e91d418810817b2903b3a961ca947f6f1691ff9a',\n       '0202391b739bcb36b71dd3c7c4e27996e77c73c5',\n       '4cadbbbd18df9ce0966f1313c32cfc7211f5685d',\n       '376ed8ba546665b89c870c2ac07ed30a4be60966',\n       '62f3996eb11407e1898c47724351673ccecc72d8',\n       'd774d08fe7ea4ecc1e1286eea4d62d7a711baee7',\n       'e0ff7dbc25a6f5413ae9fd9bc1ac7eb265a709fe',\n       'a0a509ed84a9c7dd6fd84ec2b8019f684810276a',\n       'bb910e384ef630faafc4bb278480571288f3cef4',\n       'a22a2cb7f8be14665876ec964649ab0bd8b7ea1c',\n       'afa1f63ad352b1341efb7fa679ba5bcf19e0ff3f',\n       '338a62261a3d96d1d9e71ab31ec86f5e84ae4d7f',\n       'ad555ca25c4442bf15a22de49cd3f6dc2f400345',\n       'fa87ec1453f60d3d0ad37930eea6119d831be003',\n       '276702f37eea0cf3512b85befae5ba7c73528d5e',\n       '0a7cd6afa29a83140b11ba642215abf5a8bdd250',\n       '1bb2c8cfd2aaad1b4a10c4bc665b1ea42ea1b64e',\n       '32d6cacf1edf97aad7bb5cd7f013eb4471fd9845',\n       'ca6b80c389edd59db1cf6ed024dcb3419bb9b039',\n       'b97d7523ce40d8542d773ee24db5293b37ad82d1',\n       '804238726e51175e2dcf228f46d212bc1f7c0fc3',\n       'f8f3769ea201dbe8bfb7e7463bda00661b45c042',\n       '7a5b8d96497fd5940155e75b1f00576f390379a4',\n       '2efd091b6789a1203ae3287e41aceb8b02444304',\n       '08e480b30d709b6fcb986a288a20e41fcd7ce194',\n       'c4366cd0c4ebf819155c274a7e76e333e46d742f',\n       '5b5dc20a3cfc24b6a8546a4a07c1a3ed189524d5',\n       '21812411ff181dc006a19382c2e7e41e54c539a4',\n       '218e219a100ef31bcd69234f31e184daa9087758',\n       'ecee908f02fb95fe4dc79c9305f1709dd1740411',\n       '6c1afcdb3ce934a822dfc265af5aecfd9a6c16cc',\n       '0addd6209f99057f316fc7f4b622672124977fb2',\n       '971845b75a3018716c161eb6da896da2dc3caf85',\n       '33b8abf953920da9d2360dd3db2186604e8500f7',\n       'beedfbc0d962bed0ebec3758452c1a848e7b6546',\n       '0fd1ddb2c0aec42ac5bbccfdd975a0424a9bfb7d',\n       '520c32a9e43f8ea36119a16602e882d828f39d71',\n       '389710ebf9a31c5e6f607c779f3c53ff8a6f323c',\n       'b39a88b04c20fbbee66058ebde7fcf7829025b1d',\n       '87d7f7940df6faa1b310cfbf6084540c58093dc1',\n       '4d2b7412a066635c3e213a79434e13a6a30e80aa',\n       '228cf17e022001626cd9a7256c10bf639f10215a',\n       '1bc58092d98493b136b4c529f540fe9417a5dab8',\n       'c55e888d8bc32358ac2826e1767f2eeaf54cd6d2',\n       'f3a5515b6d3b5bc52e5fde16159131f135610c05',\n       '104ee9cd0976ce695b7cf5c9bad83a80961ea369',\n       'f131388ba8508e575ad25fe1d6b6b9947b0f6077',\n       'c0d6cd3678a8cb23a28ef528e7817ccdf577b8c5',\n       'c8b98ac650dc4e410f99664dff31859aec2cb232',\n       '1a064353481b81be2f125d4661b5eb50a70009df',\n       '7936e8ac277954419b5d108764928655c755c551',\n       'eb44247e990de0692652c76ceafe4fe0dee11168',\n       '66de085b70e9d1fe954e76b8023bf2e2c1bbca4b',\n       '3f0320624ebdbcb4be86aed94799efaf5101c357',\n       'f64c7f082fd16f2c2d3f91a8b79dcdbf33b8c483',\n       'e82000117e425fec996cec554e5f03588e08aba3',\n       '5741377d66a30487fec2277377fda45e7228f607',\n       '7c7c96ba4f23bab1f8b69918f863e025a5d945bf',\n       '3c497c29166d9dfcc0ca53ecbbadc59651f0335c',\n       'c6d94ae5d8056c953ee669c53163bfc5dd801afe',\n       '9b4793fc3d3090301e13fd8a4983e7099757f1db',\n       '78bcc35ce5ae023e935f86ee2dc6b3b68437db3c',\n       '62749d0af5c14f8c9f068487e96588a6d4a8d79e',\n       'd73e995254e06d8c8f081520bfc9ee610f918ff7',\n       'cc0ddef1b0311389621bd6a64ef5258b2697d47c',\n       'ebfbaa49746dbb7e6b785cbe606cd98cefdb9630',\n       '059e628809ac738e8fb73a7247c095eda0adec10',\n       '9c60c4d99bb10e2b9e19b0eaf3563cd3fd3be6fb'], dtype=object),\n       array(['21709913597ed302ad157efa4f0b3a6db43a9033',\n       '5fc6efd568a1f3f2500e14d2bc0de7b4479e188c',\n       'ae662bdc3ae1c62a4a67f951df2d125496f71c4e',\n       '5411010461b2f9589e3967bac0b965f1303d4a10',\n       '0100c0203c782850d6a367de1de0a738273d61f3',\n       '828b90e7bec03a8e9c906a0aa9d9ceeb94b70a16',\n       'dc3102cff4033afcb1bf2bc5d1bc3f2ae21b0971',\n       'dbb772f5f56aa4616837091b04518e168145a776',\n       'a982cf7225001fa29d6dada953d06d1bec556697',\n       '6bb989792a5078b734d190aee68058cb4b8c2335',\n       'ee11eea1382fc78541d81589211bd6c004754a73',\n       '24619b8d7c177f3047e269db1af668ab44a619ce',\n       '47eb9bacaa0b05466ea037b7a1f56053045c4921',\n       'dc6c3e4836e7a52441f55073a7df5eb42c0108fb',\n       'f4fe1eed7fc259991ccdb64889483046f333cd35',\n       'e31dd6077131c0bd8e2197a9e501ac05ec2028b2',\n       '42ab1e3a333df8c85aed0ab40d83d3007d9f2d5c',\n       '515f3a48a1661de0175756135dab59918ecbb74a',\n       '92cbd971f8a2b823b385c1fb2c34c9e5528772a9',\n       'c41df05308855be065d084b276228e33da6391c7',\n       'f3f4e349082607fce0144bf12031060d57be9e62',\n       'fddc93a88cdd666add271e5df298f5b90f948cda',\n       'ff7814fec7db964d63af5017994b979bac27e4b1',\n       'b451d438bea7a680ded49c5b5b36109720bd05a2',\n       '8c7adc3ff8bd8402737cf63f3a554354c50e55ac',\n       'f75fbce10f0a2e5a5dc7aabcc48a2f2b94716457',\n       '7c73fd14035b80a5508cfbc7a7c3fea5e8d21b4d',\n       '8343385ea1f3cdc02d652ff47967d64caef450e5',\n       '022ff5b618d347fd9a56bed78e68a249cf58fdcf',\n       '39001c1d3fff7f690ea5dacc225ae9bcc3b33df2',\n       '4a035f53cf1dae7b29de5a7e6ab528008a0af55a',\n       '37f1b5388bacc2d4f275c7ba8ed458e5c5e0d87b',\n       '109e14ba4d8ca33417b3ad47142c1e8583f88b76',\n       'e39c66eb4dc42baa8cfb62bc6534af0e15387926',\n       '6b1a7261eb34e68f5b016f5b4e099ba0a11ed273',\n       'b155fc134ba0271e532ad6019832785def79665d',\n       'fafc2b0c628568df6f4e76baac232c9a82504ebd',\n       '302963427227cc2e39b950256c2e7b0bc08e1f0f',\n       '749b7002168a4362b89583c65615a816ed865d1d',\n       '89b3e6a36d60f62060b963e47025817bbe840a5d',\n       '60a639a48d7058d046840f4f9c767b4a2d28dc92',\n       'fce23f1c8b43823b68aeec25f3484c90065a0e60',\n       'a4810f7d8f38426ec6587a16c4adf9aa6e28257a',\n       'da0637b251358d8d4a8d61b7c3e0d666e476d746',\n       '91cb102271a741d85b654e225910428fd51eba69',\n       'f1114fdeb3b80c30a3269d0df54bedc63119f294',\n       'a4e52094dde28364571f696dc7f7b73ba344a761',\n       'c31482da4e47c7e03515ceb12f3292b2db4caf8b',\n       '6369741ca2f1ecb08549868b0e00b5e690e81f47',\n       '5be04840c4d3be9866ba5bb675949b514fd48b33',\n       '69deb6d9b1b5fb8b81d4890f33438697e40daf13',\n       'e91d418810817b2903b3a961ca947f6f1691ff9a',\n       '0202391b739bcb36b71dd3c7c4e27996e77c73c5',\n       '4cadbbbd18df9ce0966f1313c32cfc7211f5685d',\n       '376ed8ba546665b89c870c2ac07ed30a4be60966',\n       '62f3996eb11407e1898c47724351673ccecc72d8',\n       'd774d08fe7ea4ecc1e1286eea4d62d7a711baee7',\n       'e0ff7dbc25a6f5413ae9fd9bc1ac7eb265a709fe',\n       'a0a509ed84a9c7dd6fd84ec2b8019f684810276a',\n       'bb910e384ef630faafc4bb278480571288f3cef4',\n       'a22a2cb7f8be14665876ec964649ab0bd8b7ea1c',\n       'afa1f63ad352b1341efb7fa679ba5bcf19e0ff3f',\n       '338a62261a3d96d1d9e71ab31ec86f5e84ae4d7f',\n       'ad555ca25c4442bf15a22de49cd3f6dc2f400345',\n       'fa87ec1453f60d3d0ad37930eea6119d831be003',\n       '276702f37eea0cf3512b85befae5ba7c73528d5e',\n       '0a7cd6afa29a83140b11ba642215abf5a8bdd250',\n       '1bb2c8cfd2aaad1b4a10c4bc665b1ea42ea1b64e',\n       '32d6cacf1edf97aad7bb5cd7f013eb4471fd9845',\n       'ca6b80c389edd59db1cf6ed024dcb3419bb9b039',\n       'b97d7523ce40d8542d773ee24db5293b37ad82d1',\n       '804238726e51175e2dcf228f46d212bc1f7c0fc3',\n       'f8f3769ea201dbe8bfb7e7463bda00661b45c042',\n       '7a5b8d96497fd5940155e75b1f00576f390379a4',\n       '2efd091b6789a1203ae3287e41aceb8b02444304',\n       '08e480b30d709b6fcb986a288a20e41fcd7ce194',\n       'c4366cd0c4ebf819155c274a7e76e333e46d742f',\n       '5b5dc20a3cfc24b6a8546a4a07c1a3ed189524d5',\n       '21812411ff181dc006a19382c2e7e41e54c539a4',\n       '218e219a100ef31bcd69234f31e184daa9087758',\n       'ecee908f02fb95fe4dc79c9305f1709dd1740411',\n       '6c1afcdb3ce934a822dfc265af5aecfd9a6c16cc',\n       '0addd6209f99057f316fc7f4b622672124977fb2',\n       '971845b75a3018716c161eb6da896da2dc3caf85',\n       '33b8abf953920da9d2360dd3db2186604e8500f7',\n       'beedfbc0d962bed0ebec3758452c1a848e7b6546',\n       '0fd1ddb2c0aec42ac5bbccfdd975a0424a9bfb7d',\n       '520c32a9e43f8ea36119a16602e882d828f39d71',\n       '389710ebf9a31c5e6f607c779f3c53ff8a6f323c',\n       'b39a88b04c20fbbee66058ebde7fcf7829025b1d',\n       '87d7f7940df6faa1b310cfbf6084540c58093dc1',\n       '4d2b7412a066635c3e213a79434e13a6a30e80aa',\n       '228cf17e022001626cd9a7256c10bf639f10215a',\n       '1bc58092d98493b136b4c529f540fe9417a5dab8'], dtype=object),\n       array(['c55e888d8bc32358ac2826e1767f2eeaf54cd6d2',\n       'f3a5515b6d3b5bc52e5fde16159131f135610c05',\n       '104ee9cd0976ce695b7cf5c9bad83a80961ea369',\n       'f131388ba8508e575ad25fe1d6b6b9947b0f6077',\n       'c0d6cd3678a8cb23a28ef528e7817ccdf577b8c5',\n       'c8b98ac650dc4e410f99664dff31859aec2cb232',\n       '1a064353481b81be2f125d4661b5eb50a70009df',\n       '7936e8ac277954419b5d108764928655c755c551',\n       'eb44247e990de0692652c76ceafe4fe0dee11168',\n       '66de085b70e9d1fe954e76b8023bf2e2c1bbca4b',\n       '3f0320624ebdbcb4be86aed94799efaf5101c357',\n       'f64c7f082fd16f2c2d3f91a8b79dcdbf33b8c483',\n       'e82000117e425fec996cec554e5f03588e08aba3',\n       '5741377d66a30487fec2277377fda45e7228f607',\n       '7c7c96ba4f23bab1f8b69918f863e025a5d945bf',\n       '3c497c29166d9dfcc0ca53ecbbadc59651f0335c',\n       '376ed8ba546665b89c870c2ac07ed30a4be60966',\n       'c6d94ae5d8056c953ee669c53163bfc5dd801afe',\n       '9b4793fc3d3090301e13fd8a4983e7099757f1db',\n       '78bcc35ce5ae023e935f86ee2dc6b3b68437db3c',\n       '62749d0af5c14f8c9f068487e96588a6d4a8d79e',\n       'd73e995254e06d8c8f081520bfc9ee610f918ff7',\n       'cc0ddef1b0311389621bd6a64ef5258b2697d47c',\n       'ebfbaa49746dbb7e6b785cbe606cd98cefdb9630',\n       '059e628809ac738e8fb73a7247c095eda0adec10',\n       '9c60c4d99bb10e2b9e19b0eaf3563cd3fd3be6fb'], dtype=object)],\n      dtype=object)"
     },
     "metadata": {},
     "execution_count": 103
    }
   ],
   "source": [
    "text"
   ]
  },
  {
   "cell_type": "code",
   "execution_count": 104,
   "metadata": {},
   "outputs": [],
   "source": [
    "import csv"
   ]
  },
  {
   "cell_type": "code",
   "execution_count": 105,
   "metadata": {},
   "outputs": [],
   "source": [
    "with open(\"moko_index.csv\", \"w\") as f:\n",
    "    writer = csv.writer(f)\n",
    "    writer.writerows(text)"
   ]
  },
  {
   "cell_type": "code",
   "execution_count": null,
   "metadata": {},
   "outputs": [],
   "source": []
  }
 ],
 "metadata": {
  "language_info": {
   "codemirror_mode": {
    "name": "ipython",
    "version": 3
   },
   "file_extension": ".py",
   "mimetype": "text/x-python",
   "name": "python",
   "nbconvert_exporter": "python",
   "pygments_lexer": "ipython3",
   "version": "3.8.2-final"
  },
  "orig_nbformat": 2,
  "kernelspec": {
   "name": "python38264bitf8ecad5a152a43fca8f475bc35d3815e",
   "display_name": "Python 3.8.2 64-bit"
  }
 },
 "nbformat": 4,
 "nbformat_minor": 2
}